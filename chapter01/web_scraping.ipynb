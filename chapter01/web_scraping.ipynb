{
 "cells": [
  {
   "cell_type": "markdown",
   "id": "64adfc63",
   "metadata": {},
   "source": [
    "### Libraries"
   ]
  },
  {
   "cell_type": "code",
   "execution_count": 1,
   "id": "f48f6fab",
   "metadata": {},
   "outputs": [],
   "source": [
    "#!pip install requests\n",
    "#!pip install beautifulsoup4\n",
    "#!pip install pandas"
   ]
  },
  {
   "cell_type": "code",
   "execution_count": 2,
   "id": "a66037d9",
   "metadata": {},
   "outputs": [
    {
     "name": "stderr",
     "output_type": "stream",
     "text": [
      "/home/amina/anaconda3/lib/python3.11/site-packages/pandas/core/arrays/masked.py:60: UserWarning: Pandas requires version '1.3.6' or newer of 'bottleneck' (version '1.3.5' currently installed).\n",
      "  from pandas.core import (\n"
     ]
    }
   ],
   "source": [
    "import requests\n",
    "from bs4 import BeautifulSoup\n",
    "import pandas as pd"
   ]
  },
  {
   "cell_type": "code",
   "execution_count": 3,
   "id": "d4d86ca5",
   "metadata": {},
   "outputs": [],
   "source": [
    "titles = []\n",
    "prices = []\n",
    "ratings = []"
   ]
  },
  {
   "cell_type": "code",
   "execution_count": 4,
   "id": "7242d6eb",
   "metadata": {},
   "outputs": [],
   "source": [
    "url = 'https://webscraper.io/test-sites/e-commerce/allinone/computers/laptops'"
   ]
  },
  {
   "cell_type": "markdown",
   "id": "be612356",
   "metadata": {},
   "source": [
    "### web scraping"
   ]
  },
  {
   "cell_type": "code",
   "execution_count": 7,
   "id": "e6158729",
   "metadata": {},
   "outputs": [],
   "source": [
    "request = requests.get(url)\n",
    "soup = BeautifulSoup(request.text, \"html.parser\")\n",
    "for product in soup.find_all('div', {'class': 'col-sm-4 col-lg-4 col-md-4'}):\n",
    "    for pr in product.find_all('div', {'class': 'caption'}):\n",
    "        for p in pr.find_all('h4', {'class': 'pull-right price'}):\n",
    "            prices.append(p.text)\n",
    "        for title in pr.find_all('a' , {'title'}):\n",
    "            titles.append(title.get('title'))\n",
    "    for rt in product.find_all('div', {'class': 'ratings'}):\n",
    "        ratings.append(len(rt.find_all('span', {'class': 'glyphicon glyphicon-star'})))"
   ]
  },
  {
   "cell_type": "markdown",
   "id": "d1397316",
   "metadata": {},
   "source": [
    "### build dataframe"
   ]
  },
  {
   "cell_type": "code",
   "execution_count": null,
   "id": "479fa216",
   "metadata": {},
   "outputs": [
    {
     "data": {
      "text/html": [
       "<div>\n",
       "<style scoped>\n",
       "    .dataframe tbody tr th:only-of-type {\n",
       "        vertical-align: middle;\n",
       "    }\n",
       "\n",
       "    .dataframe tbody tr th {\n",
       "        vertical-align: top;\n",
       "    }\n",
       "\n",
       "    .dataframe thead th {\n",
       "        text-align: right;\n",
       "    }\n",
       "</style>\n",
       "<table border=\"1\" class=\"dataframe\">\n",
       "  <thead>\n",
       "    <tr style=\"text-align: right;\">\n",
       "      <th></th>\n",
       "      <th>Titles</th>\n",
       "      <th>Prices</th>\n",
       "      <th>Ratings</th>\n",
       "    </tr>\n",
       "  </thead>\n",
       "  <tbody>\n",
       "    <tr>\n",
       "      <th>0</th>\n",
       "      <td>Asus VivoBook X441NA-GA190</td>\n",
       "      <td>$295.99</td>\n",
       "      <td>3</td>\n",
       "    </tr>\n",
       "    <tr>\n",
       "      <th>1</th>\n",
       "      <td>Prestigio SmartBook 133S Dark Grey</td>\n",
       "      <td>$299.00</td>\n",
       "      <td>2</td>\n",
       "    </tr>\n",
       "    <tr>\n",
       "      <th>2</th>\n",
       "      <td>Prestigio SmartBook 133S Gold</td>\n",
       "      <td>$299.00</td>\n",
       "      <td>4</td>\n",
       "    </tr>\n",
       "    <tr>\n",
       "      <th>3</th>\n",
       "      <td>Aspire E1-510</td>\n",
       "      <td>$306.99</td>\n",
       "      <td>3</td>\n",
       "    </tr>\n",
       "    <tr>\n",
       "      <th>4</th>\n",
       "      <td>Lenovo V110-15IAP</td>\n",
       "      <td>$321.94</td>\n",
       "      <td>3</td>\n",
       "    </tr>\n",
       "  </tbody>\n",
       "</table>\n",
       "</div>"
      ],
      "text/plain": [
       "                               Titles   Prices  Ratings\n",
       "0          Asus VivoBook X441NA-GA190  $295.99        3\n",
       "1  Prestigio SmartBook 133S Dark Grey  $299.00        2\n",
       "2       Prestigio SmartBook 133S Gold  $299.00        4\n",
       "3                       Aspire E1-510  $306.99        3\n",
       "4                   Lenovo V110-15IAP  $321.94        3"
      ]
     },
     "execution_count": 13,
     "metadata": {},
     "output_type": "execute_result"
    }
   ],
   "source": [
    "product_df = pd.DataFrame(zip(titles,prices,ratings), columns =['Titles', 'Prices', 'Ratings'])  \n",
    "product_df.head()"
   ]
  },
  {
   "cell_type": "markdown",
   "id": "b01b69b6",
   "metadata": {},
   "source": [
    "### save dataframe to csv file"
   ]
  },
  {
   "cell_type": "code",
   "execution_count": null,
   "id": "8d5379e3",
   "metadata": {},
   "outputs": [],
   "source": [
    "product_df.to_csv(\"./output/ecommerce.csv\",index=False)"
   ]
  }
 ],
 "metadata": {
  "kernelspec": {
   "display_name": "base",
   "language": "python",
   "name": "python3"
  },
  "language_info": {
   "codemirror_mode": {
    "name": "ipython",
    "version": 3
   },
   "file_extension": ".py",
   "mimetype": "text/x-python",
   "name": "python",
   "nbconvert_exporter": "python",
   "pygments_lexer": "ipython3",
   "version": "3.11.5"
  }
 },
 "nbformat": 4,
 "nbformat_minor": 5
}
