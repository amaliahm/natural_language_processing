{
 "cells": [
  {
   "cell_type": "code",
   "execution_count": null,
   "metadata": {},
   "outputs": [],
   "source": [
    "from sklearn.feature_extraction.text import TfidfTransformer\n",
    "import pandas as pd\n",
    "import pickle\n",
    "\n",
    "def sentiment_pred(classifier, training_matrix, doc):\n",
    "    X_new = training_matrix.transform(pd.Series(doc)) \n",
    "    X_new = X_new.todense()\n",
    "    \n",
    "    tfidf = TfidfTransformer()\n",
    "    X_tfidf_new = tfidf.fit_transform(X_new)\n",
    "    X_tfidf_new = X_tfidf_new.todense()\n",
    "\n",
    "    y_new = classifier.predict(X_tfidf_new)\n",
    "    if y_new[0] == 0:\n",
    "        return \"negative sentiment\"\n",
    "    elif y_new[0] == 1:\n",
    "        return \"positive sentiment\""
   ]
  },
  {
   "cell_type": "code",
   "execution_count": null,
   "metadata": {},
   "outputs": [
    {
     "data": {
      "text/plain": [
       "'negative sentiment'"
      ]
     },
     "execution_count": 4,
     "metadata": {},
     "output_type": "execute_result"
    }
   ],
   "source": [
    "nb_clf = pickle.load(open(\"/output_files/nb_sa\", 'rb'))\n",
    "vectorizer = pickle.load(open(\"/output_files/vectorizer_sa\", 'rb'))\n",
    "\n",
    "new_doc = \"Not even close to the quality one would expect\"\n",
    "sentiment_pred(nb_clf, vectorizer, new_doc)"
   ]
  }
 ],
 "metadata": {
  "kernelspec": {
   "display_name": "Python 3",
   "language": "python",
   "name": "python3"
  },
  "language_info": {
   "codemirror_mode": {
    "name": "ipython",
    "version": 3
   },
   "file_extension": ".py",
   "mimetype": "text/x-python",
   "name": "python",
   "nbconvert_exporter": "python",
   "pygments_lexer": "ipython3",
   "version": "3.7.7"
  }
 },
 "nbformat": 4,
 "nbformat_minor": 4
}
